{
 "cells": [
  {
   "cell_type": "markdown",
   "id": "c7b7e122-3236-4874-90f5-06bf8fe2908d",
   "metadata": {},
   "source": [
    "# Data Science Tools and Ecosystem\n"
   ]
  },
  {
   "cell_type": "markdown",
   "id": "e8dc1d17-0bb3-44fb-9b0c-f3a16b3145fb",
   "metadata": {},
   "source": [
    "In this notebook, Data Science Tools and Ecosystem are summarized."
   ]
  },
  {
   "cell_type": "markdown",
   "id": "0e68464d-8d17-4aaa-ae94-f1c5541e61be",
   "metadata": {},
   "source": [
    "- List popular languages for Data Science\n",
    "- List common libraries in Data Science\n",
    "- Create simple arithmetic expressions in Python"
   ]
  },
  {
   "cell_type": "markdown",
   "id": "c3275178-a91c-4058-a287-1f327e45c9bd",
   "metadata": {},
   "source": [
    "Some of the popular language that Data Scientists use are:\n",
    "\n",
    "1. Pyhton\n",
    "2. R\n",
    "3. SQL"
   ]
  },
  {
   "cell_type": "markdown",
   "id": "6e6d7e00-616f-49cc-a57c-7efefa7faa8e",
   "metadata": {},
   "source": [
    "Some of the commonly used libraries used by Data Scientists include:\n",
    "\n",
    "1. Numpy\n",
    "2. Matplotlib\n",
    "3. Pandas"
   ]
  },
  {
   "cell_type": "markdown",
   "id": "b867e191-7409-4e4a-9e7b-ff92522666f5",
   "metadata": {},
   "source": [
    "\n",
    "| Data Science Tools |\n",
    "| ---- |\n",
    "| Jupyter Notebook |\n",
    "| RStudio |\n",
    "| Spyder |\n",
    "\n"
   ]
  },
  {
   "cell_type": "markdown",
   "id": "a5ff9ebc-e8ca-4b68-afb2-1bd3f00f0d39",
   "metadata": {},
   "source": [
    "### Below are a few examples of evaluating arithmetic expressions in Python"
   ]
  },
  {
   "cell_type": "code",
   "execution_count": 7,
   "id": "dee2b2e3-1320-4968-9ca7-79c402b99f7c",
   "metadata": {},
   "outputs": [
    {
     "data": {
      "text/plain": [
       "17"
      ]
     },
     "execution_count": 7,
     "metadata": {},
     "output_type": "execute_result"
    }
   ],
   "source": [
    "# This is a simple arithmetic expression to multiply then add integers\n",
    "\n",
    "(3*4)+5"
   ]
  },
  {
   "cell_type": "code",
   "execution_count": 13,
   "id": "c61395b8-adf4-4550-b644-5905b00271a0",
   "metadata": {},
   "outputs": [
    {
     "data": {
      "text/plain": [
       "3.3333333333333335"
      ]
     },
     "execution_count": 13,
     "metadata": {},
     "output_type": "execute_result"
    }
   ],
   "source": [
    "# This will convert 200 minutes to hours by dividing by 60\n",
    "\n",
    "minutes = 200\n",
    "hours = minutes / 60\n",
    "\n",
    "200 / 60"
   ]
  },
  {
   "cell_type": "markdown",
   "id": "940f74ec-6b7b-4f90-915c-c21ff50ea401",
   "metadata": {},
   "source": [
    "## Author\n",
    "Nur Sakinah Binti Razali"
   ]
  },
  {
   "cell_type": "code",
   "execution_count": null,
   "id": "1dc0884c-eab3-43a5-9413-5c805fd8eeb6",
   "metadata": {},
   "outputs": [],
   "source": []
  }
 ],
 "metadata": {
  "kernelspec": {
   "display_name": "Python 3 (ipykernel)",
   "language": "python",
   "name": "python3"
  },
  "language_info": {
   "codemirror_mode": {
    "name": "ipython",
    "version": 3
   },
   "file_extension": ".py",
   "mimetype": "text/x-python",
   "name": "python",
   "nbconvert_exporter": "python",
   "pygments_lexer": "ipython3",
   "version": "3.12.2"
  }
 },
 "nbformat": 4,
 "nbformat_minor": 5
}
